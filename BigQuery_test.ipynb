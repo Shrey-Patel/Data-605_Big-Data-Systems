{
 "cells": [
  {
   "cell_type": "code",
   "execution_count": 1,
   "id": "96660bb0",
   "metadata": {},
   "outputs": [],
   "source": [
    "from google.cloud import bigquery"
   ]
  },
  {
   "cell_type": "code",
   "execution_count": 2,
   "id": "66259c69",
   "metadata": {},
   "outputs": [],
   "source": [
    "client = bigquery.Client()"
   ]
  },
  {
   "cell_type": "code",
   "execution_count": 3,
   "id": "18070927",
   "metadata": {},
   "outputs": [],
   "source": [
    "# When working with BQ from Kaggle the project name is 'bigquery-public-data'\n",
    "# creating a dataset reference\n",
    "ncaa = client.dataset('ncaa_basketball', project='bigquery-public-data')"
   ]
  },
  {
   "cell_type": "code",
   "execution_count": 4,
   "id": "6315eca2",
   "metadata": {},
   "outputs": [
    {
     "data": {
      "text/plain": [
       "google.cloud.bigquery.dataset.DatasetReference"
      ]
     },
     "execution_count": 4,
     "metadata": {},
     "output_type": "execute_result"
    }
   ],
   "source": [
    "type(ncaa)"
   ]
  },
  {
   "cell_type": "code",
   "execution_count": 5,
   "id": "6d217336",
   "metadata": {},
   "outputs": [],
   "source": [
    "# loading the actual dataset\n",
    "ncaa_dset = client.get_dataset(ncaa)"
   ]
  },
  {
   "cell_type": "code",
   "execution_count": 6,
   "id": "0db5cfad",
   "metadata": {},
   "outputs": [
    {
     "data": {
      "text/plain": [
       "google.cloud.bigquery.dataset.Dataset"
      ]
     },
     "execution_count": 6,
     "metadata": {},
     "output_type": "execute_result"
    }
   ],
   "source": [
    "type(ncaa_dset)"
   ]
  },
  {
   "cell_type": "code",
   "execution_count": 7,
   "id": "72d0b8ba",
   "metadata": {},
   "outputs": [
    {
     "data": {
      "text/plain": [
       "['mascots',\n",
       " 'mbb_games_sr',\n",
       " 'mbb_historical_teams_games',\n",
       " 'mbb_historical_teams_seasons',\n",
       " 'mbb_historical_tournament_games',\n",
       " 'mbb_pbp_sr',\n",
       " 'mbb_players_games_sr',\n",
       " 'mbb_teams',\n",
       " 'mbb_teams_games_sr',\n",
       " 'team_colors']"
      ]
     },
     "execution_count": 7,
     "metadata": {},
     "output_type": "execute_result"
    }
   ],
   "source": [
    "# information about the tables in the dataset\n",
    "[x.table_id for x in client.list_tables(ncaa_dset)]"
   ]
  },
  {
   "cell_type": "code",
   "execution_count": 8,
   "id": "da2629ef",
   "metadata": {},
   "outputs": [],
   "source": [
    "# loading a table from the dataset\n",
    "ncaa_players = client.get_table(ncaa_dset.table('mbb_players_games_sr'))"
   ]
  },
  {
   "cell_type": "code",
   "execution_count": 9,
   "id": "37f2a38d",
   "metadata": {},
   "outputs": [
    {
     "data": {
      "text/plain": [
       "google.cloud.bigquery.table.Table"
      ]
     },
     "execution_count": 9,
     "metadata": {},
     "output_type": "execute_result"
    }
   ],
   "source": [
    "type(ncaa_players)"
   ]
  },
  {
   "cell_type": "code",
   "execution_count": 10,
   "id": "7e21e0f7",
   "metadata": {},
   "outputs": [
    {
     "data": {
      "text/plain": [
       "['clustering_fields',\n",
       " 'created',\n",
       " 'dataset_id',\n",
       " 'description',\n",
       " 'encryption_configuration',\n",
       " 'etag',\n",
       " 'expires',\n",
       " 'external_data_configuration',\n",
       " 'friendly_name',\n",
       " 'from_api_repr',\n",
       " 'from_string',\n",
       " 'full_table_id',\n",
       " 'labels',\n",
       " 'location',\n",
       " 'modified',\n",
       " 'mview_enable_refresh',\n",
       " 'mview_last_refresh_time',\n",
       " 'mview_query',\n",
       " 'mview_refresh_interval',\n",
       " 'num_bytes',\n",
       " 'num_rows',\n",
       " 'partition_expiration',\n",
       " 'partitioning_type',\n",
       " 'path',\n",
       " 'project',\n",
       " 'range_partitioning',\n",
       " 'reference',\n",
       " 'require_partition_filter',\n",
       " 'schema',\n",
       " 'self_link',\n",
       " 'streaming_buffer',\n",
       " 'table_id',\n",
       " 'table_type',\n",
       " 'time_partitioning',\n",
       " 'to_api_repr',\n",
       " 'to_bqstorage',\n",
       " 'view_query',\n",
       " 'view_use_legacy_sql']"
      ]
     },
     "execution_count": 10,
     "metadata": {},
     "output_type": "execute_result"
    }
   ],
   "source": [
    "# listing google.cloud.bigquery.table.Table objects\n",
    "[command for command in dir(ncaa_players) if not command.startswith('_')]"
   ]
  },
  {
   "cell_type": "code",
   "execution_count": 11,
   "id": "1df0d016",
   "metadata": {},
   "outputs": [
    {
     "data": {
      "text/plain": [
       "[SchemaField('game_id', 'STRING', 'NULLABLE', '[Game data] Unique identifier for the game', (), None),\n",
       " SchemaField('season', 'INTEGER', 'NULLABLE', '[Game data] Season the game was played in', (), None),\n",
       " SchemaField('neutral_site', 'BOOLEAN', 'NULLABLE', '[Game data] Indicator of whether the game was played on a neutral court', (), None),\n",
       " SchemaField('scheduled_date', 'DATE', 'NULLABLE', '[Game data] Date the game was played', (), None),\n",
       " SchemaField('gametime', 'TIMESTAMP', 'NULLABLE', '[Game data] Date and time the game was played', (), None),\n",
       " SchemaField('tournament', 'STRING', 'NULLABLE', '[Game data] Whether the game was played in a post-season tournament', (), None),\n",
       " SchemaField('tournament_type', 'STRING', 'NULLABLE', '[Game data] Type of post-season tournament a game was in played', (), None),\n",
       " SchemaField('tournament_round', 'STRING', 'NULLABLE', '[Game data] Tournament round', (), None),\n",
       " SchemaField('tournament_game_no', 'STRING', 'NULLABLE', '[Game data] Tournament game number', (), None),\n",
       " SchemaField('player_id', 'STRING', 'NULLABLE', '[Player info] Player Sportradar player ID', (), None),\n",
       " SchemaField('last_name', 'STRING', 'NULLABLE', '[Player info] Player last name', (), None),\n",
       " SchemaField('first_name', 'STRING', 'NULLABLE', '[Player info] Player first name', (), None),\n",
       " SchemaField('full_name', 'STRING', 'NULLABLE', '[Player info] Player full name', (), None),\n",
       " SchemaField('abbr_name', 'STRING', 'NULLABLE', '[Player info] Player abbreviated name (\"F.Last\")', (), None),\n",
       " SchemaField('status', 'STRING', 'NULLABLE', '[Player info] Player status as of 2017-18 season', (), None),\n",
       " SchemaField('jersey_number', 'INTEGER', 'NULLABLE', '[Player info] Player jersey number', (), None),\n",
       " SchemaField('height', 'INTEGER', 'NULLABLE', '[Player info] Player height', (), None),\n",
       " SchemaField('weight', 'INTEGER', 'NULLABLE', '[Player info] Player weight', (), None),\n",
       " SchemaField('birth_place', 'STRING', 'NULLABLE', \"[Player info] Player birth place or home (Note: this information comes from the school's website, via Sportradar. While many of these entries indicate the player's birthplace, some of them may instead indicate the town that the players most identifies with.)\", (), None),\n",
       " SchemaField('birthplace_city', 'STRING', 'NULLABLE', \"[Player info] Player's home city (Note: this information comes from the school's website, via Sportradar. While many of these entries indicate the player's birthplace, some of them may instead indicate the town that the players most identifies with.)\", (), None),\n",
       " SchemaField('birthplace_state', 'STRING', 'NULLABLE', \"[Player info] Player's home state (Note: this information comes from the school's website, via Sportradar. While many of these entries indicate the player's birthplace, some of them may instead indicate the town that the players most identifies with.)\", (), None),\n",
       " SchemaField('birthplace_country', 'STRING', 'NULLABLE', \"[Player info] Player's home country (Note: this information comes from the school's website, via Sportradar. While many of these entries indicate the player's birthplace, some of them may instead indicate the town that the players most identifies with.)\", (), None),\n",
       " SchemaField('class', 'STRING', 'NULLABLE', \"[Player info] Player's class at game time (Note: this information comes from the school's website, via Sportradar.)\", (), None),\n",
       " SchemaField('team_name', 'STRING', 'NULLABLE', '[Team info] Team name', (), None),\n",
       " SchemaField('team_market', 'STRING', 'NULLABLE', '[Team info] Team school name (using Sportradar names)', (), None),\n",
       " SchemaField('team_id', 'STRING', 'NULLABLE', '[Team info] Sportradar team ID', (), None),\n",
       " SchemaField('team_alias', 'STRING', 'NULLABLE', '[Team info] Team alias', (), None),\n",
       " SchemaField('conf_name', 'STRING', 'NULLABLE', '[Team info] Team current conference name', (), None),\n",
       " SchemaField('conf_alias', 'STRING', 'NULLABLE', '[Team info] Team current conference alias', (), None),\n",
       " SchemaField('division_name', 'STRING', 'NULLABLE', '[Team info] Team current division name', (), None),\n",
       " SchemaField('division_alias', 'STRING', 'NULLABLE', '[Team info] Team current division alias', (), None),\n",
       " SchemaField('league_name', 'STRING', 'NULLABLE', '[Team info] Team current league name', (), None),\n",
       " SchemaField('home_team', 'BOOLEAN', 'NULLABLE', '[Team info] Indicator of whether the team was the home team', (), None),\n",
       " SchemaField('active', 'BOOLEAN', 'NULLABLE', '[Player stats] Indicator of whether the player was active for the game', (), None),\n",
       " SchemaField('played', 'BOOLEAN', 'NULLABLE', '[Player stats] Indicator of whether the player played in the game', (), None),\n",
       " SchemaField('starter', 'BOOLEAN', 'NULLABLE', '[Player stats] Indicator of whether the player started the game', (), None),\n",
       " SchemaField('minutes', 'STRING', 'NULLABLE', '[Player stats] Minutes played', (), None),\n",
       " SchemaField('minutes_int64', 'INTEGER', 'NULLABLE', '[Player stats] Minutes played (as integer)', (), None),\n",
       " SchemaField('position', 'STRING', 'NULLABLE', '[Player stats] Position', (), None),\n",
       " SchemaField('primary_position', 'STRING', 'NULLABLE', '[Player stats] Primary position', (), None),\n",
       " SchemaField('field_goals_made', 'INTEGER', 'NULLABLE', '[Player stats] Field goals made', (), None),\n",
       " SchemaField('field_goals_att', 'INTEGER', 'NULLABLE', '[Player stats] Field goals attempted', (), None),\n",
       " SchemaField('field_goals_pct', 'FLOAT', 'NULLABLE', '[Player stats] Field goal percentage', (), None),\n",
       " SchemaField('three_points_made', 'INTEGER', 'NULLABLE', '[Player stats] Three-pointers made', (), None),\n",
       " SchemaField('three_points_att', 'INTEGER', 'NULLABLE', '[Player stats] Three-pointers attempted', (), None),\n",
       " SchemaField('three_points_pct', 'FLOAT', 'NULLABLE', '[Player stats] Three-point shot percentage', (), None),\n",
       " SchemaField('two_points_made', 'INTEGER', 'NULLABLE', '[Player stats] Two-pointers made', (), None),\n",
       " SchemaField('two_points_att', 'INTEGER', 'NULLABLE', '[Player stats] Two-pointers attempted', (), None),\n",
       " SchemaField('two_points_pct', 'FLOAT', 'NULLABLE', '[Player stats] Two-point shot percentage', (), None),\n",
       " SchemaField('blocked_att', 'INTEGER', 'NULLABLE', '[Player stats] Number of shots blocked by the other team', (), None),\n",
       " SchemaField('free_throws_made', 'INTEGER', 'NULLABLE', '[Player stats] Free throws made', (), None),\n",
       " SchemaField('free_throws_att', 'INTEGER', 'NULLABLE', '[Player stats] Free throws attempted', (), None),\n",
       " SchemaField('free_throws_pct', 'FLOAT', 'NULLABLE', '[Player stats] Free throw percentage', (), None),\n",
       " SchemaField('offensive_rebounds', 'INTEGER', 'NULLABLE', '[Player stats] Offensive rebounds', (), None),\n",
       " SchemaField('defensive_rebounds', 'INTEGER', 'NULLABLE', '[Player stats] Defensive rebounds', (), None),\n",
       " SchemaField('rebounds', 'INTEGER', 'NULLABLE', '[Player stats] Total rebounds', (), None),\n",
       " SchemaField('assists', 'INTEGER', 'NULLABLE', '[Player stats] Assists', (), None),\n",
       " SchemaField('turnovers', 'INTEGER', 'NULLABLE', '[Player stats] Turnovers', (), None),\n",
       " SchemaField('steals', 'INTEGER', 'NULLABLE', '[Player stats] Steals', (), None),\n",
       " SchemaField('blocks', 'INTEGER', 'NULLABLE', '[Player stats] Blocks', (), None),\n",
       " SchemaField('assists_turnover_ratio', 'FLOAT', 'NULLABLE', '[Player stats] Assist-to-turnover ratio', (), None),\n",
       " SchemaField('personal_fouls', 'INTEGER', 'NULLABLE', '[Player stats] Personal fouls committed', (), None),\n",
       " SchemaField('tech_fouls', 'INTEGER', 'NULLABLE', '[Player stats] Technical fouls committed', (), None),\n",
       " SchemaField('flagrant_fouls', 'INTEGER', 'NULLABLE', '[Player stats] Flagrant fouls committed', (), None),\n",
       " SchemaField('points', 'INTEGER', 'NULLABLE', '[Player stats] Points scored', (), None),\n",
       " SchemaField('sp_created', 'TIMESTAMP', 'NULLABLE', '[Table data] Box score data entry time', (), None)]"
      ]
     },
     "execution_count": 11,
     "metadata": {},
     "output_type": "execute_result"
    }
   ],
   "source": [
    "# Table schema\n",
    "ncaa_players.schema"
   ]
  },
  {
   "cell_type": "code",
   "execution_count": 12,
   "id": "e85f32be",
   "metadata": {},
   "outputs": [],
   "source": [
    "# filtering schema for certain columns\n",
    "schema_subset = [col for col in ncaa_players.schema if col.name in ('game_id', 'season', 'player_id','last_name','first_name','primary_position','position' \\\n",
    "                                                                    'team_name','team_id','conf_name','minutes','field_goals_pct','three_points_pct','two_points_pct' \\\n",
    "                                                                   'free_throws_pct','rebounds','assists','assists_turnover_ratio','points','sp_created')]\n",
    "# using the filtered schema to return rows\n",
    "df1 = [x for x in client.list_rows(ncaa_players, start_index=100, selected_fields=schema_subset, max_results=10)]"
   ]
  },
  {
   "cell_type": "code",
   "execution_count": 13,
   "id": "f99622ce",
   "metadata": {},
   "outputs": [
    {
     "name": "stdout",
     "output_type": "stream",
     "text": [
      "<class 'list'>\n",
      "---------\n",
      " [Row(('7a1b46eb-3cc3-48e3-acaf-e669c6a9d0be', 2017, '8aa6fcd5-6ee5-457d-a17f-34e155363e7c', 'Djeric', 'Milos', 'dc99b5c2-680a-4cdf-8ce3-ec0b17e22f38', None, None, 'NA', None, None, None, None, None, None, datetime.datetime(2018, 2, 20, 13, 3, 22, tzinfo=<UTC>)), {'game_id': 0, 'season': 1, 'player_id': 2, 'last_name': 3, 'first_name': 4, 'team_id': 5, 'conf_name': 6, 'minutes': 7, 'primary_position': 8, 'field_goals_pct': 9, 'three_points_pct': 10, 'rebounds': 11, 'assists': 12, 'assists_turnover_ratio': 13, 'points': 14, 'sp_created': 15}), Row(('db61d4ea-5e5f-4842-8a5e-24319837d95e', 2017, '552b6df4-4914-4322-9ccf-b069ee0eec40', 'Willis', 'Ben', '7ced29ca-9b03-4a21-aa6f-4b75e2146120', None, None, 'NA', None, None, None, None, None, None, datetime.datetime(2018, 2, 20, 13, 3, 27, tzinfo=<UTC>)), {'game_id': 0, 'season': 1, 'player_id': 2, 'last_name': 3, 'first_name': 4, 'team_id': 5, 'conf_name': 6, 'minutes': 7, 'primary_position': 8, 'field_goals_pct': 9, 'three_points_pct': 10, 'rebounds': 11, 'assists': 12, 'assists_turnover_ratio': 13, 'points': 14, 'sp_created': 15}), Row(('64667cdd-9379-4ecc-877a-3fb4d76fbff2', 2017, '2f7ed702-8e9d-4c79-9a63-0ea9768a6da6', 'Shaw', 'Kivontay', '3572adb4-ffa8-4eb7-a74d-c154831ab1ef', None, None, 'NA', None, None, None, None, None, None, datetime.datetime(2018, 2, 20, 13, 3, 27, tzinfo=<UTC>)), {'game_id': 0, 'season': 1, 'player_id': 2, 'last_name': 3, 'first_name': 4, 'team_id': 5, 'conf_name': 6, 'minutes': 7, 'primary_position': 8, 'field_goals_pct': 9, 'three_points_pct': 10, 'rebounds': 11, 'assists': 12, 'assists_turnover_ratio': 13, 'points': 14, 'sp_created': 15}), Row(('c4d7c15b-4b22-4e01-9098-a4b427c423f9', 2017, '49c3efc9-102f-47c6-b1ff-c0f3bce6f6a0', 'Nyang', 'Akim', 'e83b24a0-ebe8-4f37-92ce-6c5944b18085', None, None, 'NA', None, None, None, None, None, None, datetime.datetime(2018, 2, 20, 13, 3, 24, tzinfo=<UTC>)), {'game_id': 0, 'season': 1, 'player_id': 2, 'last_name': 3, 'first_name': 4, 'team_id': 5, 'conf_name': 6, 'minutes': 7, 'primary_position': 8, 'field_goals_pct': 9, 'three_points_pct': 10, 'rebounds': 11, 'assists': 12, 'assists_turnover_ratio': 13, 'points': 14, 'sp_created': 15}), Row(('03fe9dc8-7968-4f80-a6a2-5be12cd12cb1', 2017, '68d8754f-a42d-4e31-91fc-057715bac3ba', 'Flowers', 'Jadyn', 'bcc5efaf-2cad-4335-8ac9-fda38e9c7a9c', None, None, 'NA', None, None, None, None, None, None, datetime.datetime(2018, 2, 20, 13, 3, 23, tzinfo=<UTC>)), {'game_id': 0, 'season': 1, 'player_id': 2, 'last_name': 3, 'first_name': 4, 'team_id': 5, 'conf_name': 6, 'minutes': 7, 'primary_position': 8, 'field_goals_pct': 9, 'three_points_pct': 10, 'rebounds': 11, 'assists': 12, 'assists_turnover_ratio': 13, 'points': 14, 'sp_created': 15}), Row(('39a4837b-24b3-4fbd-ac1c-e47a0b962b34', 2017, 'cc236d15-34b4-4db0-8837-3fa1eae0992d', 'Logsdon', 'Jake', 'bdf7405d-66c0-4b2d-9764-d7152c264eaa', None, None, 'NA', None, None, None, None, None, None, datetime.datetime(2018, 2, 20, 13, 3, 21, tzinfo=<UTC>)), {'game_id': 0, 'season': 1, 'player_id': 2, 'last_name': 3, 'first_name': 4, 'team_id': 5, 'conf_name': 6, 'minutes': 7, 'primary_position': 8, 'field_goals_pct': 9, 'three_points_pct': 10, 'rebounds': 11, 'assists': 12, 'assists_turnover_ratio': 13, 'points': 14, 'sp_created': 15}), Row(('10f6f12d-f53a-4c05-a79d-cbedf38f1a1c', 2017, '0979d609-5d22-42c8-89f8-5b23fa7a66c8', 'Janson', 'Jacob', '8784cd8e-00f3-47b9-8788-29172ee14d9d', None, None, 'NA', None, None, None, None, None, None, datetime.datetime(2018, 2, 20, 13, 3, 24, tzinfo=<UTC>)), {'game_id': 0, 'season': 1, 'player_id': 2, 'last_name': 3, 'first_name': 4, 'team_id': 5, 'conf_name': 6, 'minutes': 7, 'primary_position': 8, 'field_goals_pct': 9, 'three_points_pct': 10, 'rebounds': 11, 'assists': 12, 'assists_turnover_ratio': 13, 'points': 14, 'sp_created': 15}), Row(('3c471313-e8b7-400d-99d4-d6c3cd4598f8', 2017, '09014a23-192d-4a2a-8fb5-de9d925b61bc', 'Terry', 'Aljernod', '265803f5-a3fd-4c90-a05e-944fdb21faf8', None, None, 'NA', None, None, None, None, None, None, datetime.datetime(2018, 2, 20, 13, 3, 22, tzinfo=<UTC>)), {'game_id': 0, 'season': 1, 'player_id': 2, 'last_name': 3, 'first_name': 4, 'team_id': 5, 'conf_name': 6, 'minutes': 7, 'primary_position': 8, 'field_goals_pct': 9, 'three_points_pct': 10, 'rebounds': 11, 'assists': 12, 'assists_turnover_ratio': 13, 'points': 14, 'sp_created': 15}), Row(('16194865-b262-4eb1-9ca6-356885bbf648', 2017, '54af3c20-b267-4cf9-9667-13b88670bd4d', 'Kelly', 'Keil', '0dd44ba7-caf4-4b4f-8b65-120f51fd05d7', None, None, 'NA', None, None, None, None, None, None, datetime.datetime(2018, 2, 20, 13, 3, 21, tzinfo=<UTC>)), {'game_id': 0, 'season': 1, 'player_id': 2, 'last_name': 3, 'first_name': 4, 'team_id': 5, 'conf_name': 6, 'minutes': 7, 'primary_position': 8, 'field_goals_pct': 9, 'three_points_pct': 10, 'rebounds': 11, 'assists': 12, 'assists_turnover_ratio': 13, 'points': 14, 'sp_created': 15}), Row(('dd38e120-bc90-4544-9e61-3e07ed2728cb', 2017, 'b0de17ca-c718-4a3b-8fc0-52fdcc8f5589', 'Pena', 'Lex', 'c2749176-0670-4535-a27f-12fe69b853dc', None, None, 'NA', None, None, None, None, None, None, datetime.datetime(2018, 2, 20, 13, 3, 23, tzinfo=<UTC>)), {'game_id': 0, 'season': 1, 'player_id': 2, 'last_name': 3, 'first_name': 4, 'team_id': 5, 'conf_name': 6, 'minutes': 7, 'primary_position': 8, 'field_goals_pct': 9, 'three_points_pct': 10, 'rebounds': 11, 'assists': 12, 'assists_turnover_ratio': 13, 'points': 14, 'sp_created': 15})]\n"
     ]
    }
   ],
   "source": [
    "print(type(df1))\n",
    "print(\"---------\\n\",df1)"
   ]
  },
  {
   "cell_type": "code",
   "execution_count": 14,
   "id": "5ba24ef9",
   "metadata": {},
   "outputs": [
    {
     "name": "stdout",
     "output_type": "stream",
     "text": [
      "{'game_id': '7a1b46eb-3cc3-48e3-acaf-e669c6a9d0be', 'season': 2017, 'player_id': '8aa6fcd5-6ee5-457d-a17f-34e155363e7c', 'last_name': 'Djeric', 'first_name': 'Milos', 'team_id': 'dc99b5c2-680a-4cdf-8ce3-ec0b17e22f38', 'conf_name': None, 'minutes': None, 'primary_position': 'NA', 'field_goals_pct': None, 'three_points_pct': None, 'rebounds': None, 'assists': None, 'assists_turnover_ratio': None, 'points': None, 'sp_created': datetime.datetime(2018, 2, 20, 13, 3, 22, tzinfo=<UTC>)}\n",
      "{'game_id': 'db61d4ea-5e5f-4842-8a5e-24319837d95e', 'season': 2017, 'player_id': '552b6df4-4914-4322-9ccf-b069ee0eec40', 'last_name': 'Willis', 'first_name': 'Ben', 'team_id': '7ced29ca-9b03-4a21-aa6f-4b75e2146120', 'conf_name': None, 'minutes': None, 'primary_position': 'NA', 'field_goals_pct': None, 'three_points_pct': None, 'rebounds': None, 'assists': None, 'assists_turnover_ratio': None, 'points': None, 'sp_created': datetime.datetime(2018, 2, 20, 13, 3, 27, tzinfo=<UTC>)}\n",
      "{'game_id': '64667cdd-9379-4ecc-877a-3fb4d76fbff2', 'season': 2017, 'player_id': '2f7ed702-8e9d-4c79-9a63-0ea9768a6da6', 'last_name': 'Shaw', 'first_name': 'Kivontay', 'team_id': '3572adb4-ffa8-4eb7-a74d-c154831ab1ef', 'conf_name': None, 'minutes': None, 'primary_position': 'NA', 'field_goals_pct': None, 'three_points_pct': None, 'rebounds': None, 'assists': None, 'assists_turnover_ratio': None, 'points': None, 'sp_created': datetime.datetime(2018, 2, 20, 13, 3, 27, tzinfo=<UTC>)}\n",
      "{'game_id': 'c4d7c15b-4b22-4e01-9098-a4b427c423f9', 'season': 2017, 'player_id': '49c3efc9-102f-47c6-b1ff-c0f3bce6f6a0', 'last_name': 'Nyang', 'first_name': 'Akim', 'team_id': 'e83b24a0-ebe8-4f37-92ce-6c5944b18085', 'conf_name': None, 'minutes': None, 'primary_position': 'NA', 'field_goals_pct': None, 'three_points_pct': None, 'rebounds': None, 'assists': None, 'assists_turnover_ratio': None, 'points': None, 'sp_created': datetime.datetime(2018, 2, 20, 13, 3, 24, tzinfo=<UTC>)}\n",
      "{'game_id': '03fe9dc8-7968-4f80-a6a2-5be12cd12cb1', 'season': 2017, 'player_id': '68d8754f-a42d-4e31-91fc-057715bac3ba', 'last_name': 'Flowers', 'first_name': 'Jadyn', 'team_id': 'bcc5efaf-2cad-4335-8ac9-fda38e9c7a9c', 'conf_name': None, 'minutes': None, 'primary_position': 'NA', 'field_goals_pct': None, 'three_points_pct': None, 'rebounds': None, 'assists': None, 'assists_turnover_ratio': None, 'points': None, 'sp_created': datetime.datetime(2018, 2, 20, 13, 3, 23, tzinfo=<UTC>)}\n",
      "{'game_id': '39a4837b-24b3-4fbd-ac1c-e47a0b962b34', 'season': 2017, 'player_id': 'cc236d15-34b4-4db0-8837-3fa1eae0992d', 'last_name': 'Logsdon', 'first_name': 'Jake', 'team_id': 'bdf7405d-66c0-4b2d-9764-d7152c264eaa', 'conf_name': None, 'minutes': None, 'primary_position': 'NA', 'field_goals_pct': None, 'three_points_pct': None, 'rebounds': None, 'assists': None, 'assists_turnover_ratio': None, 'points': None, 'sp_created': datetime.datetime(2018, 2, 20, 13, 3, 21, tzinfo=<UTC>)}\n",
      "{'game_id': '10f6f12d-f53a-4c05-a79d-cbedf38f1a1c', 'season': 2017, 'player_id': '0979d609-5d22-42c8-89f8-5b23fa7a66c8', 'last_name': 'Janson', 'first_name': 'Jacob', 'team_id': '8784cd8e-00f3-47b9-8788-29172ee14d9d', 'conf_name': None, 'minutes': None, 'primary_position': 'NA', 'field_goals_pct': None, 'three_points_pct': None, 'rebounds': None, 'assists': None, 'assists_turnover_ratio': None, 'points': None, 'sp_created': datetime.datetime(2018, 2, 20, 13, 3, 24, tzinfo=<UTC>)}\n",
      "{'game_id': '3c471313-e8b7-400d-99d4-d6c3cd4598f8', 'season': 2017, 'player_id': '09014a23-192d-4a2a-8fb5-de9d925b61bc', 'last_name': 'Terry', 'first_name': 'Aljernod', 'team_id': '265803f5-a3fd-4c90-a05e-944fdb21faf8', 'conf_name': None, 'minutes': None, 'primary_position': 'NA', 'field_goals_pct': None, 'three_points_pct': None, 'rebounds': None, 'assists': None, 'assists_turnover_ratio': None, 'points': None, 'sp_created': datetime.datetime(2018, 2, 20, 13, 3, 22, tzinfo=<UTC>)}\n",
      "{'game_id': '16194865-b262-4eb1-9ca6-356885bbf648', 'season': 2017, 'player_id': '54af3c20-b267-4cf9-9667-13b88670bd4d', 'last_name': 'Kelly', 'first_name': 'Keil', 'team_id': '0dd44ba7-caf4-4b4f-8b65-120f51fd05d7', 'conf_name': None, 'minutes': None, 'primary_position': 'NA', 'field_goals_pct': None, 'three_points_pct': None, 'rebounds': None, 'assists': None, 'assists_turnover_ratio': None, 'points': None, 'sp_created': datetime.datetime(2018, 2, 20, 13, 3, 21, tzinfo=<UTC>)}\n",
      "{'game_id': 'dd38e120-bc90-4544-9e61-3e07ed2728cb', 'season': 2017, 'player_id': 'b0de17ca-c718-4a3b-8fc0-52fdcc8f5589', 'last_name': 'Pena', 'first_name': 'Lex', 'team_id': 'c2749176-0670-4535-a27f-12fe69b853dc', 'conf_name': None, 'minutes': None, 'primary_position': 'NA', 'field_goals_pct': None, 'three_points_pct': None, 'rebounds': None, 'assists': None, 'assists_turnover_ratio': None, 'points': None, 'sp_created': datetime.datetime(2018, 2, 20, 13, 3, 23, tzinfo=<UTC>)}\n"
     ]
    }
   ],
   "source": [
    "# converting the 'google.cloud.bigquery.table.Row' object into a dictionary for legibility\n",
    "for i in df1:\n",
    "    print(dict(i))"
   ]
  },
  {
   "cell_type": "code",
   "execution_count": 15,
   "id": "d0cc561f",
   "metadata": {},
   "outputs": [
    {
     "name": "stdout",
     "output_type": "stream",
     "text": [
      "0.4111668886616826 GB\n"
     ]
    }
   ],
   "source": [
    "# a full table scan\n",
    "BYTES_PER_GB = 2**30\n",
    "print(ncaa_players.num_bytes/BYTES_PER_GB,\"GB\")"
   ]
  },
  {
   "cell_type": "code",
   "execution_count": 16,
   "id": "afdc1f22",
   "metadata": {},
   "outputs": [],
   "source": [
    "def estimate_gigabytes_scanned(query, bq_client):\n",
    "    # see https://cloud.google.com/bigquery/docs/reference/rest/v2/jobs#configuration.dryRun\n",
    "    my_job_config = bigquery.job.QueryJobConfig()\n",
    "    my_job_config.dry_run = True\n",
    "    my_job = bq_client.query(query, job_config=my_job_config)\n",
    "    BYTES_PER_GB = 2**30\n",
    "    return my_job.total_bytes_processed / BYTES_PER_GB"
   ]
  },
  {
   "cell_type": "code",
   "execution_count": 17,
   "id": "45e65838",
   "metadata": {},
   "outputs": [
    {
     "data": {
      "text/plain": [
       "0.031456418335437775"
      ]
     },
     "execution_count": 17,
     "metadata": {},
     "output_type": "execute_result"
    }
   ],
   "source": [
    "# one column scan\n",
    "estimate_gigabytes_scanned(\"SELECT player_id FROM ncaa_bb.mbb_players_games_sr\", client)"
   ]
  },
  {
   "cell_type": "code",
   "execution_count": null,
   "id": "b4f60671",
   "metadata": {},
   "outputs": [],
   "source": []
  },
  {
   "cell_type": "code",
   "execution_count": null,
   "id": "da3c1077",
   "metadata": {},
   "outputs": [],
   "source": []
  }
 ],
 "metadata": {
  "kernelspec": {
   "display_name": "Python 3",
   "language": "python",
   "name": "python3"
  },
  "language_info": {
   "codemirror_mode": {
    "name": "ipython",
    "version": 3
   },
   "file_extension": ".py",
   "mimetype": "text/x-python",
   "name": "python",
   "nbconvert_exporter": "python",
   "pygments_lexer": "ipython3",
   "version": "3.8.5"
  }
 },
 "nbformat": 4,
 "nbformat_minor": 5
}
